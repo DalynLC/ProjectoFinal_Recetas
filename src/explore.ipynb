{
    "cells": [
        {
            "cell_type": "markdown",
            "metadata": {},
            "source": [
                "# Proyecto: Accidentes de tráfico"
            ]
        },
        {
            "cell_type": "markdown",
            "metadata": {},
            "source": [
                "### Obtención de datos"
            ]
        },
        {
            "cell_type": "code",
            "execution_count": 2,
            "metadata": {},
            "outputs": [
                {
                    "data": {
                        "application/vnd.jupyter.widget-view+json": {
                            "model_id": "9d81d1cd61df40af98372625b9b5044a",
                            "version_major": 2,
                            "version_minor": 0
                        },
                        "text/plain": [
                            "VBox(children=(HTML(value='<center> <img\\nsrc=https://www.kaggle.com/static/images/site-logo.png\\nalt=\\'Kaggle…"
                        ]
                    },
                    "metadata": {},
                    "output_type": "display_data"
                }
            ],
            "source": [
                "import kagglehub\n",
                "from kagglehub import KaggleDatasetAdapter\n",
                "\n",
                "import kagglehub\n",
                "\n",
                "kagglehub.login()"
            ]
        },
        {
            "cell_type": "code",
            "execution_count": 12,
            "metadata": {},
            "outputs": [
                {
                    "name": "stderr",
                    "output_type": "stream",
                    "text": [
                        "/tmp/ipykernel_8727/2972283283.py:5: DeprecationWarning: load_dataset is deprecated and will be removed in future version.\n",
                        "  data = kagglehub.load_dataset(\n"
                    ]
                },
                {
                    "name": "stdout",
                    "output_type": "stream",
                    "text": [
                        "First 5 records:                crash_date traffic_control_device weather_condition  \\\n",
                        "0  07/29/2023 01:00:00 PM         TRAFFIC SIGNAL             CLEAR   \n",
                        "1  08/13/2023 12:11:00 AM         TRAFFIC SIGNAL             CLEAR   \n",
                        "2  12/09/2021 10:30:00 AM         TRAFFIC SIGNAL             CLEAR   \n",
                        "3  08/09/2023 07:55:00 PM         TRAFFIC SIGNAL             CLEAR   \n",
                        "4  08/19/2023 02:55:00 PM         TRAFFIC SIGNAL             CLEAR   \n",
                        "\n",
                        "       lighting_condition first_crash_type trafficway_type  \\\n",
                        "0                DAYLIGHT          TURNING     NOT DIVIDED   \n",
                        "1  DARKNESS, LIGHTED ROAD          TURNING        FOUR WAY   \n",
                        "2                DAYLIGHT         REAR END  T-INTERSECTION   \n",
                        "3                DAYLIGHT            ANGLE        FOUR WAY   \n",
                        "4                DAYLIGHT         REAR END  T-INTERSECTION   \n",
                        "\n",
                        "            alignment roadway_surface_cond road_defect  \\\n",
                        "0  STRAIGHT AND LEVEL              UNKNOWN     UNKNOWN   \n",
                        "1  STRAIGHT AND LEVEL                  DRY  NO DEFECTS   \n",
                        "2  STRAIGHT AND LEVEL                  DRY  NO DEFECTS   \n",
                        "3  STRAIGHT AND LEVEL                  DRY  NO DEFECTS   \n",
                        "4  STRAIGHT AND LEVEL              UNKNOWN     UNKNOWN   \n",
                        "\n",
                        "                         crash_type  ...        most_severe_injury  \\\n",
                        "0            NO INJURY / DRIVE AWAY  ...   NO INDICATION OF INJURY   \n",
                        "1            NO INJURY / DRIVE AWAY  ...   NO INDICATION OF INJURY   \n",
                        "2            NO INJURY / DRIVE AWAY  ...   NO INDICATION OF INJURY   \n",
                        "3  INJURY AND / OR TOW DUE TO CRASH  ...  NONINCAPACITATING INJURY   \n",
                        "4            NO INJURY / DRIVE AWAY  ...   NO INDICATION OF INJURY   \n",
                        "\n",
                        "  injuries_total injuries_fatal  injuries_incapacitating  \\\n",
                        "0            0.0            0.0                      0.0   \n",
                        "1            0.0            0.0                      0.0   \n",
                        "2            0.0            0.0                      0.0   \n",
                        "3            5.0            0.0                      0.0   \n",
                        "4            0.0            0.0                      0.0   \n",
                        "\n",
                        "  injuries_non_incapacitating  injuries_reported_not_evident  \\\n",
                        "0                         0.0                            0.0   \n",
                        "1                         0.0                            0.0   \n",
                        "2                         0.0                            0.0   \n",
                        "3                         5.0                            0.0   \n",
                        "4                         0.0                            0.0   \n",
                        "\n",
                        "   injuries_no_indication  crash_hour  crash_day_of_week  crash_month  \n",
                        "0                     3.0          13                  7            7  \n",
                        "1                     2.0           0                  1            8  \n",
                        "2                     3.0          10                  5           12  \n",
                        "3                     0.0          19                  4            8  \n",
                        "4                     3.0          14                  7            8  \n",
                        "\n",
                        "[5 rows x 24 columns]\n"
                    ]
                }
            ],
            "source": [
                "import kagglehub\n",
                "from kagglehub import KaggleDatasetAdapter\n",
                "\n",
                "# Load the latest version\n",
                "data = kagglehub.load_dataset(\n",
                "  KaggleDatasetAdapter.PANDAS,\n",
                "  \"oktayrdeki/traffic-accidents\",\n",
                "  \"traffic_accidents.csv\"\n",
                ")\n",
                "\n",
                "print(\"First 5 records:\", data.head())"
            ]
        },
        {
            "cell_type": "code",
            "execution_count": 13,
            "metadata": {},
            "outputs": [
                {
                    "data": {
                        "text/plain": [
                            "209306"
                        ]
                    },
                    "execution_count": 13,
                    "metadata": {},
                    "output_type": "execute_result"
                }
            ],
            "source": [
                "import sqlite3\n",
                "\n",
                "#Creación de la db y tablas con datos\n",
                "\n",
                "con = sqlite3.connect(\"../data/project_db.db\")\n",
                "data.to_sql('accident', con, if_exists='replace', index=False)"
            ]
        },
        {
            "cell_type": "code",
            "execution_count": 6,
            "metadata": {},
            "outputs": [
                {
                    "name": "stdout",
                    "output_type": "stream",
                    "text": [
                        "<class 'pandas.core.frame.DataFrame'>\n",
                        "RangeIndex: 209306 entries, 0 to 209305\n",
                        "Data columns (total 24 columns):\n",
                        " #   Column                         Non-Null Count   Dtype  \n",
                        "---  ------                         --------------   -----  \n",
                        " 0   crash_date                     209306 non-null  object \n",
                        " 1   traffic_control_device         209306 non-null  object \n",
                        " 2   weather_condition              209306 non-null  object \n",
                        " 3   lighting_condition             209306 non-null  object \n",
                        " 4   first_crash_type               209306 non-null  object \n",
                        " 5   trafficway_type                209306 non-null  object \n",
                        " 6   alignment                      209306 non-null  object \n",
                        " 7   roadway_surface_cond           209306 non-null  object \n",
                        " 8   road_defect                    209306 non-null  object \n",
                        " 9   crash_type                     209306 non-null  object \n",
                        " 10  intersection_related_i         209306 non-null  object \n",
                        " 11  damage                         209306 non-null  object \n",
                        " 12  prim_contributory_cause        209306 non-null  object \n",
                        " 13  num_units                      209306 non-null  int64  \n",
                        " 14  most_severe_injury             209306 non-null  object \n",
                        " 15  injuries_total                 209306 non-null  float64\n",
                        " 16  injuries_fatal                 209306 non-null  float64\n",
                        " 17  injuries_incapacitating        209306 non-null  float64\n",
                        " 18  injuries_non_incapacitating    209306 non-null  float64\n",
                        " 19  injuries_reported_not_evident  209306 non-null  float64\n",
                        " 20  injuries_no_indication         209306 non-null  float64\n",
                        " 21  crash_hour                     209306 non-null  int64  \n",
                        " 22  crash_day_of_week              209306 non-null  int64  \n",
                        " 23  crash_month                    209306 non-null  int64  \n",
                        "dtypes: float64(6), int64(4), object(14)\n",
                        "memory usage: 38.3+ MB\n"
                    ]
                }
            ],
            "source": [
                "data.info()"
            ]
        }
    ],
    "metadata": {
        "kernelspec": {
            "display_name": "Python 3",
            "language": "python",
            "name": "python3"
        },
        "language_info": {
            "codemirror_mode": {
                "name": "ipython",
                "version": 3
            },
            "file_extension": ".py",
            "mimetype": "text/x-python",
            "name": "python",
            "nbconvert_exporter": "python",
            "pygments_lexer": "ipython3",
            "version": "3.10.12"
        },
        "orig_nbformat": 4
    },
    "nbformat": 4,
    "nbformat_minor": 2
}
